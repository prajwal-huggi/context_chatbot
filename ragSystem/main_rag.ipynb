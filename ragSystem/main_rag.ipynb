{
 "cells": [
  {
   "cell_type": "code",
   "execution_count": 1,
   "id": "ff7c36f0",
   "metadata": {},
   "outputs": [
    {
     "name": "stderr",
     "output_type": "stream",
     "text": [
      "None of PyTorch, TensorFlow >= 2.0, or Flax have been found. Models won't be available and only tokenizers, configuration and file/data utilities can be used.\n"
     ]
    }
   ],
   "source": [
    "from langchain_google_genai import ChatGoogleGenerativeAI, GoogleGenerativeAIEmbeddings\n",
    "from langchain.prompts import PromptTemplate\n",
    "from langchain.text_splitter import RecursiveCharacterTextSplitter\n",
    "\n",
    "from langchain_core.runnables import RunnableParallel, RunnablePassthrough, RunnableLambda\n",
    "\n",
    "from langchain.output_parsers import PydanticOutputParser\n",
    "from pydantic import BaseModel, Field\n",
    "\n",
    "from langchain_chroma import Chroma\n",
    "import chromadb\n",
    "\n",
    "from dotenv import load_dotenv\n",
    "import os\n",
    "\n",
    "from PyPDF2 import PdfReader"
   ]
  },
  {
   "cell_type": "code",
   "execution_count": 2,
   "id": "c5189c04",
   "metadata": {},
   "outputs": [
    {
     "data": {
      "text/plain": [
       "True"
      ]
     },
     "execution_count": 2,
     "metadata": {},
     "output_type": "execute_result"
    }
   ],
   "source": [
    "load_dotenv()\n"
   ]
  },
  {
   "cell_type": "markdown",
   "id": "b3f0aaff",
   "metadata": {},
   "source": [
    "Creating the embeddings"
   ]
  },
  {
   "cell_type": "code",
   "execution_count": 3,
   "id": "a0e02f8d",
   "metadata": {},
   "outputs": [
    {
     "name": "stderr",
     "output_type": "stream",
     "text": [
      "WARNING: All log messages before absl::InitializeLog() is called are written to STDERR\n",
      "E0000 00:00:1759254529.826769 9021555 alts_credentials.cc:93] ALTS creds ignored. Not running on GCP and untrusted ALTS is not enabled.\n"
     ]
    }
   ],
   "source": [
    "embeddings= GoogleGenerativeAIEmbeddings(\n",
    "    # model=\"gemini-embedding-001\"\n",
    "    model=\"models/gemini-embedding-exp-03-07\",\n",
    "    \n",
    ")"
   ]
  },
  {
   "cell_type": "markdown",
   "id": "5f335230",
   "metadata": {},
   "source": [
    "Creating the LLM"
   ]
  },
  {
   "cell_type": "code",
   "execution_count": 4,
   "id": "3e5461df",
   "metadata": {},
   "outputs": [
    {
     "name": "stderr",
     "output_type": "stream",
     "text": [
      "E0000 00:00:1759254529.840464 9021555 alts_credentials.cc:93] ALTS creds ignored. Not running on GCP and untrusted ALTS is not enabled.\n"
     ]
    }
   ],
   "source": [
    "llm= ChatGoogleGenerativeAI(\n",
    "    model=\"gemini-2.5-flash-lite\",\n",
    "    temperature=0.3,\n",
    "    max_tokens=500,\n",
    "    timeout=None,\n",
    "    max_retries=2,\n",
    "    api_key= os.getenv(\"GOOGLE_API_KEY\")\n",
    ")"
   ]
  },
  {
   "cell_type": "markdown",
   "id": "ee24ac7c",
   "metadata": {},
   "source": [
    "Get the pdf and extracting the text"
   ]
  },
  {
   "cell_type": "code",
   "execution_count": 5,
   "id": "2fbb1f60",
   "metadata": {},
   "outputs": [],
   "source": [
    "pdfPath= \"/Users/consultadd/Prajwal/LangChain/RAG/documents/cars_info.pdf\"\n",
    "reader= PdfReader(pdfPath)\n",
    "\n",
    "pdfContent= [page.extract_text() for page in reader.pages]"
   ]
  },
  {
   "cell_type": "code",
   "execution_count": 6,
   "id": "9e3054b1",
   "metadata": {},
   "outputs": [
    {
     "name": "stdout",
     "output_type": "stream",
     "text": [
      "['Information about Cars\\n \\nCars are one of the most widely used modes of transportation in the modern world. They run\\nprimarily on internal combustion engines, though electric cars have gained immense popularity in\\nrecent years due to environmental concerns and advances in battery technology. Types of Cars: 1.\\nSedan - Comfortable passenger cars with separate compartments for engine, passengers, and\\nluggage. 2. SUV (Sport Utility Vehicle) - Larger, more powerful cars, often with off-road capabilities.\\n3. Hatchback - Compact cars with a rear door that swings upward, providing access to the cargo\\narea. 4. Coupe - Stylish two-door cars, often sporty in nature. 5. Convertible - Cars with roofs that\\ncan be retracted or removed. 6. Electric Cars - Run on electric motors powered by rechargeable\\nbatteries. 7. Hybrid Cars - Combine internal combustion engines with electric motors for better fuel\\nefficiency. Key Components of Cars: - Engine: The heart of the car, traditionally powered by petrol\\nor diesel, or replaced with electric motors. - Transmission: Transfers power from the engine to the\\nwheels. - Chassis: The framework that supports the car’s structure and components. - Suspension:\\nProvides comfort by absorbing shocks from the road. - Brakes: Essential for safety, allowing the\\ndriver to slow down or stop. - Tires: The point of contact between the car and the road. Modern\\nInnovations: - Autonomous driving technologies are being developed to allow cars to drive\\nthemselves. - Electric cars, such as those from Tesla, BYD, and Nissan, are becoming more\\nmainstream. - Advanced safety systems include lane-keeping assist, automatic braking, and\\nadaptive cruise control. Cars have transformed the way humans travel, work, and live. From early\\nmodels like the Ford Model T to the futuristic electric and self-driving vehicles of today, the\\nautomobile industry continues to evolve rapidly.\\n']\n"
     ]
    }
   ],
   "source": [
    "print(pdfContent)"
   ]
  },
  {
   "cell_type": "markdown",
   "id": "1aeca44c",
   "metadata": {},
   "source": [
    "Splitter"
   ]
  },
  {
   "cell_type": "code",
   "execution_count": 7,
   "id": "0a5ef1e3",
   "metadata": {},
   "outputs": [],
   "source": [
    "splitters= RecursiveCharacterTextSplitter(\n",
    "    chunk_size= 500,\n",
    "    chunk_overlap= 100    \n",
    ")\n",
    "\n",
    "chunks= splitters.create_documents(pdfContent)"
   ]
  },
  {
   "cell_type": "markdown",
   "id": "777f3e48",
   "metadata": {},
   "source": [
    "Now storing the chunks(in the form of Dcoument) into the vector database"
   ]
  },
  {
   "cell_type": "code",
   "execution_count": 8,
   "id": "963ba815",
   "metadata": {},
   "outputs": [],
   "source": [
    "dbPath= os.path.join(os.getcwd(), 'pdfDB')\n",
    "\n",
    "client= chromadb.Client(\n",
    "    settings=chromadb.config.Settings(is_persistent= True, persist_directory= dbPath)\n",
    ")\n",
    "\n",
    "collections= client.get_or_create_collection(\"Pdfs\")"
   ]
  },
  {
   "cell_type": "code",
   "execution_count": 9,
   "id": "f5cee7bb",
   "metadata": {},
   "outputs": [],
   "source": [
    "collections.add(\n",
    "    ids= [f\"doc_{i}\" for i in range(len(chunks))],\n",
    "    documents= [i.page_content for i in chunks],\n",
    "    embeddings= embeddings.embed_documents([i.page_content for i in chunks]),\n",
    ")"
   ]
  },
  {
   "cell_type": "markdown",
   "id": "338017c2",
   "metadata": {},
   "source": [
    "Now making the retrieval to get the relevant documents"
   ]
  },
  {
   "cell_type": "code",
   "execution_count": 10,
   "id": "7d8d28e9",
   "metadata": {},
   "outputs": [],
   "source": [
    "vectorestore= Chroma(\n",
    "    client= client,\n",
    "    collection_name=\"Pdfs\",\n",
    "    embedding_function=embeddings\n",
    ")\n",
    "\n",
    "retriever= vectorestore.as_retriever(\n",
    "    search_type= \"mmr\",\n",
    "    search_kwargs= {\"k\": 3, \"fetch_k\": 10}\n",
    ")"
   ]
  },
  {
   "cell_type": "markdown",
   "id": "c2599b1a",
   "metadata": {},
   "source": [
    "Making the parser"
   ]
  },
  {
   "cell_type": "code",
   "execution_count": 11,
   "id": "2b56a4d0",
   "metadata": {},
   "outputs": [],
   "source": [
    "class RAGAnswer(BaseModel):\n",
    "    mode: str = Field(description=\"Either 'context+reasoning' or 'reasoning'\")\n",
    "    answer: str = Field(description=\"The answer to the question\")\n",
    "    \n",
    "parser= PydanticOutputParser(pydantic_object=RAGAnswer)"
   ]
  },
  {
   "cell_type": "markdown",
   "id": "afc3c156",
   "metadata": {},
   "source": [
    "Making the Prompt"
   ]
  },
  {
   "cell_type": "code",
   "execution_count": 12,
   "id": "f87fb114",
   "metadata": {},
   "outputs": [],
   "source": [
    "prompt= PromptTemplate(\n",
    "    template=\"\"\"\n",
    "    You are a helpful assistant. Decide how to answer based on the context:\n",
    "\n",
    "    - If the provided context is useful, combine it with your reasoning. \n",
    "    In that case set \"mode\" = \"context+reasoning\".\n",
    "    - If the context is missing or irrelevant, rely only on your reasoning. \n",
    "    In that case set \"mode\" = \"reasoning\".\n",
    "    - Always return valid JSON.\n",
    "\n",
    "    Context:\n",
    "    {context}\n",
    "\n",
    "    Question:\n",
    "    {question}\n",
    "\n",
    "    {format_instructions}\n",
    "    \"\"\",\n",
    "    input_variables= [\"context\", \"question\"],\n",
    "    partial_variables={\"format_instructions\": parser.get_format_instructions()}\n",
    "    \n",
    ")"
   ]
  },
  {
   "cell_type": "code",
   "execution_count": 13,
   "id": "f3c07d92",
   "metadata": {},
   "outputs": [],
   "source": [
    "def format_docs(retrieved_docs):\n",
    "    context_text= \"\\n\\n\".join(doc.page_content for doc in retrieved_docs)\n",
    "    return context_text\n",
    "\n",
    "parallel_chain= RunnableParallel({\n",
    "    \"question\": RunnablePassthrough(),\n",
    "    \"context\": retriever | RunnableLambda(format_docs)\n",
    "})\n",
    "\n",
    "final_chain= parallel_chain | prompt | llm | parser"
   ]
  },
  {
   "cell_type": "code",
   "execution_count": 14,
   "id": "9c7c4181",
   "metadata": {},
   "outputs": [],
   "source": [
    "query= \"Do you know about the Mahindra XUV 3xo?\"\n",
    "\n",
    "# result= final_chain.invoke({\"question\":query})\n",
    "result= final_chain.invoke(query)"
   ]
  },
  {
   "cell_type": "code",
   "execution_count": 20,
   "id": "9f04d49e",
   "metadata": {},
   "outputs": [
    {
     "name": "stdout",
     "output_type": "stream",
     "text": [
      "reasoning\n",
      "I do not have specific information about the Mahindra XUV 3xo in my current knowledge base. My information about cars covers general types, components, and some modern innovations, but not details on every specific model.\n"
     ]
    }
   ],
   "source": [
    "final_result= result.model_dump()\n",
    "print(final_result['mode'])\n",
    "print(final_result['answer'])"
   ]
  }
 ],
 "metadata": {
  "kernelspec": {
   "display_name": "Python 3",
   "language": "python",
   "name": "python3"
  },
  "language_info": {
   "codemirror_mode": {
    "name": "ipython",
    "version": 3
   },
   "file_extension": ".py",
   "mimetype": "text/x-python",
   "name": "python",
   "nbconvert_exporter": "python",
   "pygments_lexer": "ipython3",
   "version": "3.9.6"
  }
 },
 "nbformat": 4,
 "nbformat_minor": 5
}
